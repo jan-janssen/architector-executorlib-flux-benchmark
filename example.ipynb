{
 "cells": [
  {
   "cell_type": "markdown",
   "metadata": {},
   "source": [
    "# 14 - Using External ASE Objects (Calculators/Optimizers)\n",
    "\n",
    "### In this tutorial we will learn how to use external ASE calculators and optimizers within the architector framework.\n",
    "\n",
    "**(A)** Using arbitrary methods to perform energy/relaxations.\n",
    "\n",
    "**(B)** How to use example ASE calculator (MACE-MP-0) within Architector complex construction.\n",
    "\n",
    "**(C)** How to use arbirtrary ASE optimizers within Architector."
   ]
  },
  {
   "cell_type": "markdown",
   "metadata": {},
   "source": [
    "To get started - make sure to install the MACE-MP-0 package and model:\n",
    "\n",
    "See: https://github.com/ACEsuit/mace"
   ]
  },
  {
   "cell_type": "code",
   "execution_count": 1,
   "metadata": {},
   "outputs": [],
   "source": [
    "from architector import view_structures, convert_io_molecule\n",
    "from architector.io_calc import CalcExecutor\n",
    "from executorlib import Executor\n",
    "import numpy as np"
   ]
  },
  {
   "cell_type": "markdown",
   "metadata": {},
   "source": [
    "Now, Let's generate a structure (UFF) for an arbitary SMILES string and distort the coordinates by a random distance:"
   ]
  },
  {
   "cell_type": "code",
   "execution_count": 2,
   "metadata": {},
   "outputs": [
    {
     "data": {
      "application/3dmoljs_load.v0": "<div id=\"3dmolviewer_17290959537115066\"  style=\"position: relative; width: 200px; height: 200px;\">\n        <p id=\"3dmolwarning_17290959537115066\" style=\"background-color:#ffcccc;color:black\">3Dmol.js failed to load for some reason.  Please check your browser console for error messages.<br></p>\n        </div>\n<script>\n\nvar loadScriptAsync = function(uri){\n  return new Promise((resolve, reject) => {\n    //this is to ignore the existence of requirejs amd\n    var savedexports, savedmodule;\n    if (typeof exports !== 'undefined') savedexports = exports;\n    else exports = {}\n    if (typeof module !== 'undefined') savedmodule = module;\n    else module = {}\n\n    var tag = document.createElement('script');\n    tag.src = uri;\n    tag.async = true;\n    tag.onload = () => {\n        exports = savedexports;\n        module = savedmodule;\n        resolve();\n    };\n  var firstScriptTag = document.getElementsByTagName('script')[0];\n  firstScriptTag.parentNode.insertBefore(tag, firstScriptTag);\n});\n};\n\nif(typeof $3Dmolpromise === 'undefined') {\n$3Dmolpromise = null;\n  $3Dmolpromise = loadScriptAsync('https://cdnjs.cloudflare.com/ajax/libs/3Dmol/2.4.0/3Dmol-min.js');\n}\n\nvar viewer_17290959537115066 = null;\nvar warn = document.getElementById(\"3dmolwarning_17290959537115066\");\nif(warn) {\n    warn.parentNode.removeChild(warn);\n}\n$3Dmolpromise.then(function() {\nviewer_17290959537115066 = $3Dmol.createViewer(document.getElementById(\"3dmolviewer_17290959537115066\"),{backgroundColor:\"white\"});\nviewer_17290959537115066.zoomTo();\n\tviewer_17290959537115066.addModel(\"@<TRIPOS>MOLECULE\\ntmp.mol2\\n    18    18     1     0     0\\nSMALL\\nNoCharges\\n****\\nGenerated from Architector\\n\\n@<TRIPOS>ATOM\\n     1 C1        1.5227   -0.1337    0.3667   C.ar      1 RES1   0.0000\\n     2 C2        0.8652    1.3238    0.2865   C.ar      1 RES1   0.0000\\n     3 C3       -0.3135    1.4565    0.1399   C.ar      1 RES1   0.0000\\n     4 C4       -1.0501    0.3946    0.0670   C.ar      1 RES1   0.0000\\n     5 C5       -0.7979   -0.5563    0.1183   C.ar      1 RES1   0.0000\\n     6 C6        0.6981   -1.2373    0.0583   C.ar      1 RES1   0.0000\\n     7 C7        1.2563   -2.1808    0.0452   C.3       1 RES1   0.0000\\n     8 O1        0.6938   -3.1797    1.5695   O.3       1 RES1   0.0000\\n     9 N1        1.2561   -2.3947    2.5721   N.3       1 RES1   0.0000\\n    10 H1        2.9012    0.0751    0.4399   H         1 RES1   0.0000\\n    11 H2        1.7992    2.3573    0.3871   H         1 RES1   0.0000\\n    12 H3       -0.6614    2.8031    0.0313   H         1 RES1   0.0000\\n    13 H4       -2.1916    0.5735   -0.0131   H         1 RES1   0.0000\\n    14 H5       -1.5186   -1.5460    0.2221   H         1 RES1   0.0000\\n    15 H6        0.9393   -2.8080   -0.8111   H         1 RES1   0.0000\\n    16 H7        2.1817   -2.5991    0.4904   H         1 RES1   0.0000\\n    17 H8        0.8981   -1.7693    3.1013   H         1 RES1   0.0000\\n    18 H9        1.3761   -3.3450    3.0943   H         1 RES1   0.0000\\n@<TRIPOS>BOND\\n     1     1     2   ar\\n     2     1     6   ar\\n     3     1    10    1\\n     4     2     3   ar\\n     5     2    11    1\\n     6     3     4   ar\\n     7     3    12    1\\n     8     4     5   ar\\n     9     4    13    1\\n    10     5     6   ar\\n    11     5    14    1\\n    12     6     7    1\\n    13     7     8    1\\n    14     7    15    1\\n    15     7    16    1\\n    16     8     9    1\\n    17     9    17    1\\n    18     9    18    1\\n@<TRIPOS>SUBSTRUCTURE\\n     1 RES1       18 GROUP             0 ****  ****    0  \\n\",\"mol2\",{\"keepH\": true});\n\tviewer_17290959537115066.addStyle({\"sphere\": {\"colorscheme\": \"Jmol\", \"scale\": 0.3}});\n\tviewer_17290959537115066.addStyle({\"stick\": {\"colorscheme\": \"Jmol\", \"radius\": 0.25}});\n\tviewer_17290959537115066.zoomTo();\nviewer_17290959537115066.render();\n});\n</script>",
      "text/html": [
       "<div id=\"3dmolviewer_17290959537115066\"  style=\"position: relative; width: 200px; height: 200px;\">\n",
       "        <p id=\"3dmolwarning_17290959537115066\" style=\"background-color:#ffcccc;color:black\">3Dmol.js failed to load for some reason.  Please check your browser console for error messages.<br></p>\n",
       "        </div>\n",
       "<script>\n",
       "\n",
       "var loadScriptAsync = function(uri){\n",
       "  return new Promise((resolve, reject) => {\n",
       "    //this is to ignore the existence of requirejs amd\n",
       "    var savedexports, savedmodule;\n",
       "    if (typeof exports !== 'undefined') savedexports = exports;\n",
       "    else exports = {}\n",
       "    if (typeof module !== 'undefined') savedmodule = module;\n",
       "    else module = {}\n",
       "\n",
       "    var tag = document.createElement('script');\n",
       "    tag.src = uri;\n",
       "    tag.async = true;\n",
       "    tag.onload = () => {\n",
       "        exports = savedexports;\n",
       "        module = savedmodule;\n",
       "        resolve();\n",
       "    };\n",
       "  var firstScriptTag = document.getElementsByTagName('script')[0];\n",
       "  firstScriptTag.parentNode.insertBefore(tag, firstScriptTag);\n",
       "});\n",
       "};\n",
       "\n",
       "if(typeof $3Dmolpromise === 'undefined') {\n",
       "$3Dmolpromise = null;\n",
       "  $3Dmolpromise = loadScriptAsync('https://cdnjs.cloudflare.com/ajax/libs/3Dmol/2.4.0/3Dmol-min.js');\n",
       "}\n",
       "\n",
       "var viewer_17290959537115066 = null;\n",
       "var warn = document.getElementById(\"3dmolwarning_17290959537115066\");\n",
       "if(warn) {\n",
       "    warn.parentNode.removeChild(warn);\n",
       "}\n",
       "$3Dmolpromise.then(function() {\n",
       "viewer_17290959537115066 = $3Dmol.createViewer(document.getElementById(\"3dmolviewer_17290959537115066\"),{backgroundColor:\"white\"});\n",
       "viewer_17290959537115066.zoomTo();\n",
       "\tviewer_17290959537115066.addModel(\"@<TRIPOS>MOLECULE\\ntmp.mol2\\n    18    18     1     0     0\\nSMALL\\nNoCharges\\n****\\nGenerated from Architector\\n\\n@<TRIPOS>ATOM\\n     1 C1        1.5227   -0.1337    0.3667   C.ar      1 RES1   0.0000\\n     2 C2        0.8652    1.3238    0.2865   C.ar      1 RES1   0.0000\\n     3 C3       -0.3135    1.4565    0.1399   C.ar      1 RES1   0.0000\\n     4 C4       -1.0501    0.3946    0.0670   C.ar      1 RES1   0.0000\\n     5 C5       -0.7979   -0.5563    0.1183   C.ar      1 RES1   0.0000\\n     6 C6        0.6981   -1.2373    0.0583   C.ar      1 RES1   0.0000\\n     7 C7        1.2563   -2.1808    0.0452   C.3       1 RES1   0.0000\\n     8 O1        0.6938   -3.1797    1.5695   O.3       1 RES1   0.0000\\n     9 N1        1.2561   -2.3947    2.5721   N.3       1 RES1   0.0000\\n    10 H1        2.9012    0.0751    0.4399   H         1 RES1   0.0000\\n    11 H2        1.7992    2.3573    0.3871   H         1 RES1   0.0000\\n    12 H3       -0.6614    2.8031    0.0313   H         1 RES1   0.0000\\n    13 H4       -2.1916    0.5735   -0.0131   H         1 RES1   0.0000\\n    14 H5       -1.5186   -1.5460    0.2221   H         1 RES1   0.0000\\n    15 H6        0.9393   -2.8080   -0.8111   H         1 RES1   0.0000\\n    16 H7        2.1817   -2.5991    0.4904   H         1 RES1   0.0000\\n    17 H8        0.8981   -1.7693    3.1013   H         1 RES1   0.0000\\n    18 H9        1.3761   -3.3450    3.0943   H         1 RES1   0.0000\\n@<TRIPOS>BOND\\n     1     1     2   ar\\n     2     1     6   ar\\n     3     1    10    1\\n     4     2     3   ar\\n     5     2    11    1\\n     6     3     4   ar\\n     7     3    12    1\\n     8     4     5   ar\\n     9     4    13    1\\n    10     5     6   ar\\n    11     5    14    1\\n    12     6     7    1\\n    13     7     8    1\\n    14     7    15    1\\n    15     7    16    1\\n    16     8     9    1\\n    17     9    17    1\\n    18     9    18    1\\n@<TRIPOS>SUBSTRUCTURE\\n     1 RES1       18 GROUP             0 ****  ****    0  \\n\",\"mol2\",{\"keepH\": true});\n",
       "\tviewer_17290959537115066.addStyle({\"sphere\": {\"colorscheme\": \"Jmol\", \"scale\": 0.3}});\n",
       "\tviewer_17290959537115066.addStyle({\"stick\": {\"colorscheme\": \"Jmol\", \"radius\": 0.25}});\n",
       "\tviewer_17290959537115066.zoomTo();\n",
       "viewer_17290959537115066.render();\n",
       "});\n",
       "</script>"
      ]
     },
     "metadata": {},
     "output_type": "display_data"
    }
   ],
   "source": [
    "arb_smiles = 'c1ccccc1CON'\n",
    "mol = convert_io_molecule(arb_smiles)\n",
    "mol.ase_atoms.set_positions(mol.ase_atoms.get_positions() + np.random.random(mol.ase_atoms.get_positions().shape) / 2)\n",
    "view_structures(mol)"
   ]
  },
  {
   "cell_type": "markdown",
   "metadata": {},
   "source": [
    "## How to use arbirtrary ASE optimizers within Architector.\n",
    "\n",
    "Here, we can directly use other ASE optimizers as well, the default is LBFGSLineSearch. So Let's USE BFGS."
   ]
  },
  {
   "cell_type": "code",
   "execution_count": 3,
   "metadata": {},
   "outputs": [],
   "source": [
    "def get_parameters():\n",
    "    from ase.optimize import BFGS\n",
    "    from mace.calculators import mace_mp # Import Mace ASE calculator\n",
    "    calc = mace_mp(\n",
    "        model=\"medium\", \n",
    "        dispersion=True,\n",
    "        default_dtype=\"float32\"\n",
    "    )\n",
    "    return {\"parameters\": {\n",
    "        'ase_opt_method':BFGS, # Directly pass the optimizer object\n",
    "        'calculator':calc,\n",
    "        'assemble_method':'UFF', # Use UFF for assembly\n",
    "        'full_method':'custom',\n",
    "        'debug':True # Use debug to show that it is using BFGS instead of LBFGSLineSearch\n",
    "    }}"
   ]
  },
  {
   "cell_type": "code",
   "execution_count": 4,
   "metadata": {},
   "outputs": [],
   "source": [
    "def build(input_dict, parameters):\n",
    "    from architector import build_complex\n",
    "    input_dict[\"parameters\"] = parameters\n",
    "    return build_complex(input_dict)"
   ]
  },
  {
   "cell_type": "code",
   "execution_count": 5,
   "metadata": {},
   "outputs": [],
   "source": [
    "inputDict = {\n",
    "    'core': {'metal':'Fe','coreCN': 6}, # Specify metal coordination number (CN)\n",
    "    'ligands':['water'] * 6, # Specify what is filling the coordination environment\n",
    "} \n",
    "with Executor(max_workers=1, threads_per_core=2, backend=\"flux\", block_allocation=True, init_function=get_parameters) as exe:\n",
    "    f = exe.submit(build, input_dict=inputDict)\n",
    "    fe_h2o_out = f.result()"
   ]
  },
  {
   "cell_type": "code",
   "execution_count": 6,
   "metadata": {},
   "outputs": [
    {
     "data": {
      "application/3dmoljs_load.v0": "<div id=\"3dmolviewer_1729095996970833\"  style=\"position: relative; width: 800px; height: 200px;\">\n        <p id=\"3dmolwarning_1729095996970833\" style=\"background-color:#ffcccc;color:black\">3Dmol.js failed to load for some reason.  Please check your browser console for error messages.<br></p>\n        </div>\n<script>\n\nvar loadScriptAsync = function(uri){\n  return new Promise((resolve, reject) => {\n    //this is to ignore the existence of requirejs amd\n    var savedexports, savedmodule;\n    if (typeof exports !== 'undefined') savedexports = exports;\n    else exports = {}\n    if (typeof module !== 'undefined') savedmodule = module;\n    else module = {}\n\n    var tag = document.createElement('script');\n    tag.src = uri;\n    tag.async = true;\n    tag.onload = () => {\n        exports = savedexports;\n        module = savedmodule;\n        resolve();\n    };\n  var firstScriptTag = document.getElementsByTagName('script')[0];\n  firstScriptTag.parentNode.insertBefore(tag, firstScriptTag);\n});\n};\n\nif(typeof $3Dmolpromise === 'undefined') {\n$3Dmolpromise = null;\n  $3Dmolpromise = loadScriptAsync('https://cdnjs.cloudflare.com/ajax/libs/3Dmol/2.4.0/3Dmol-min.js');\n}\n\nvar viewer_1729095996970833 = null;\nvar warn = document.getElementById(\"3dmolwarning_1729095996970833\");\nif(warn) {\n    warn.parentNode.removeChild(warn);\n}\n$3Dmolpromise.then(function() {\nvar viewergrid_1729095996970833 = null;\nviewergrid_1729095996970833 = $3Dmol.createViewerGrid(document.getElementById(\"3dmolviewer_1729095996970833\"),{rows: 1, cols: 4, control_all: false},{backgroundColor:\"white\"});\nviewer_1729095996970833 = viewergrid_1729095996970833[0][0];\nviewergrid_1729095996970833[0][0].zoomTo();viewergrid_1729095996970833[0][1].zoomTo();viewergrid_1729095996970833[0][2].zoomTo();viewergrid_1729095996970833[0][3].zoomTo();\tviewergrid_1729095996970833[0][0].addModel(\"@<TRIPOS>MOLECULE\\ntmp.mol2 Charge: 2 Unpaired_Electrons: 4 XTB_Unpaired_Electrons: 4 XTB_Charge: 2\\n    19    18     1     0     0\\nSMALL\\nNoCharges\\n****\\nGenerated from Architector\\n\\n@<TRIPOS>ATOM\\n     1 Fe1      -0.0901    0.0055    0.0073   Fe        1 RES1   0.0000\\n     2 O1        1.5829    0.0337    1.5487   O.3       1 RES1   0.0000\\n     3 H1        1.6788   -0.6830    2.2032   H         1 RES1   0.0000\\n     4 H2        1.9045    0.8365    2.0004   H         1 RES1   0.0000\\n     5 O2       -1.4168    1.1563    1.4362   O.3       1 RES1   0.0000\\n     6 H3       -1.3055    0.9552    2.3841   H         1 RES1   0.0000\\n     7 H4       -1.4667    2.1309    1.3976   H         1 RES1   0.0000\\n     8 O3       -0.9349   -1.4347    1.5685   O.3       1 RES1   0.0000\\n     9 H5       -0.6441   -2.3653    1.6277   H         1 RES1   0.0000\\n    10 H6       -1.9069   -1.4784    1.6467   H         1 RES1   0.0000\\n    11 O4        1.5987    0.1091   -1.5203   O.3       1 RES1   0.0000\\n    12 H7        2.4789    0.4189   -1.2341   H         1 RES1   0.0000\\n    13 H8        1.3429    0.7188   -2.2404   H         1 RES1   0.0000\\n    14 O5       -1.0404    1.2514   -1.6338   O.3       1 RES1   0.0000\\n    15 H9       -1.6202    2.0132   -1.4517   H         1 RES1   0.0000\\n    16 H10      -1.5169    0.7291   -2.3080   H         1 RES1   0.0000\\n    17 O6       -0.5041   -1.4452   -1.7417   O.3       1 RES1   0.0000\\n    18 H11      -1.1108   -2.2039   -1.6615   H         1 RES1   0.0000\\n    19 H12       0.3235   -1.8250   -2.0967   H         1 RES1   0.0000\\n@<TRIPOS>BOND\\n     1     1     2    1\\n     2     1     5    1\\n     3     1     8    1\\n     4     1    11    1\\n     5     1    14    1\\n     6     1    17    1\\n     7     2     3    1\\n     8     2     4    1\\n     9     5     6    1\\n    10     5     7    1\\n    11     8     9    1\\n    12     8    10    1\\n    13    11    12    1\\n    14    11    13    1\\n    15    14    15    1\\n    16    14    16    1\\n    17    17    18    1\\n    18    17    19    1\\n@<TRIPOS>SUBSTRUCTURE\\n     1 RES1       19 GROUP             0 ****  ****    0  \\n\",\"mol2\",{\"keepH\": true});\n\tviewergrid_1729095996970833[0][0].addStyle({\"sphere\": {\"colorscheme\": \"Jmol\", \"scale\": 0.3}});\n\tviewergrid_1729095996970833[0][0].setStyle({\"elem\": \"Fe\"},{\"sphere\": {\"colorscheme\": \"Jmol\", \"scale\": 0.75}});\n\tviewergrid_1729095996970833[0][0].addStyle({\"stick\": {\"colorscheme\": \"Jmol\", \"radius\": 0.25}});\n\tviewergrid_1729095996970833[0][0].zoomTo();\n\tviewergrid_1729095996970833[0][1].addModel(\"@<TRIPOS>MOLECULE\\ntmp.mol2 Charge: 2 Unpaired_Electrons: 4 XTB_Unpaired_Electrons: 4 XTB_Charge: 2\\n    19    18     1     0     0\\nSMALL\\nNoCharges\\n****\\nGenerated from Architector\\n\\n@<TRIPOS>ATOM\\n     1 Fe1      -0.1309   -0.0303   -0.0636   Fe        1 RES1   0.0000\\n     2 O1       -0.4565   -0.2572    2.1793   O.3       1 RES1   0.0000\\n     3 H1        0.0239   -0.9355    2.6917   H         1 RES1   0.0000\\n     4 H2       -0.5922    0.4687    2.8177   H         1 RES1   0.0000\\n     5 O2       -0.4065   -0.0513   -2.3130   O.3       1 RES1   0.0000\\n     6 H3       -0.4609    0.7356   -2.8867   H         1 RES1   0.0000\\n     7 H4        0.0367   -0.7269   -2.8615   H         1 RES1   0.0000\\n     8 O3        2.0669    0.2860    0.2841   O.3       1 RES1   0.0000\\n     9 H5        2.6677   -0.1995    0.8798   H         1 RES1   0.0000\\n    10 H6        2.6392    0.8679   -0.2493   H         1 RES1   0.0000\\n    11 O4       -2.3063   -0.5955   -0.1619   O.3       1 RES1   0.0000\\n    12 H7       -2.7928   -0.4763    0.6756   H         1 RES1   0.0000\\n    13 H8       -2.8506   -0.1345   -0.8293   H         1 RES1   0.0000\\n    14 O5       -0.3920    2.2046    0.0196   O.3       1 RES1   0.0000\\n    15 H9       -0.2234    2.7770    0.7908   H         1 RES1   0.0000\\n    16 H10      -0.4764    2.8227   -0.7298   H         1 RES1   0.0000\\n    17 O6        0.0062   -2.2432   -0.3599   O.3       1 RES1   0.0000\\n    18 H11       0.8261   -2.7637   -0.2763   H         1 RES1   0.0000\\n    19 H12      -0.7291   -2.8599   -0.1798   H         1 RES1   0.0000\\n@<TRIPOS>BOND\\n     1     1     2    1\\n     2     1     5    1\\n     3     1     8    1\\n     4     1    11    1\\n     5     1    14    1\\n     6     1    17    1\\n     7     2     3    1\\n     8     2     4    1\\n     9     5     6    1\\n    10     5     7    1\\n    11     8     9    1\\n    12     8    10    1\\n    13    11    12    1\\n    14    11    13    1\\n    15    14    15    1\\n    16    14    16    1\\n    17    17    18    1\\n    18    17    19    1\\n@<TRIPOS>SUBSTRUCTURE\\n     1 RES1       19 GROUP             0 ****  ****    0  \\n\",\"mol2\",{\"keepH\": true});\n\tviewergrid_1729095996970833[0][1].addStyle({\"sphere\": {\"colorscheme\": \"Jmol\", \"scale\": 0.3}});\n\tviewergrid_1729095996970833[0][1].setStyle({\"elem\": \"Fe\"},{\"sphere\": {\"colorscheme\": \"Jmol\", \"scale\": 0.75}});\n\tviewergrid_1729095996970833[0][1].addStyle({\"stick\": {\"colorscheme\": \"Jmol\", \"radius\": 0.25}});\n\tviewergrid_1729095996970833[0][1].zoomTo();\nviewergrid_1729095996970833[0][3].render();\nviewergrid_1729095996970833[0][2].render();\nviewergrid_1729095996970833[0][1].render();\nviewergrid_1729095996970833[0][0].render();\n});\n</script>",
      "text/html": [
       "<div id=\"3dmolviewer_1729095996970833\"  style=\"position: relative; width: 800px; height: 200px;\">\n",
       "        <p id=\"3dmolwarning_1729095996970833\" style=\"background-color:#ffcccc;color:black\">3Dmol.js failed to load for some reason.  Please check your browser console for error messages.<br></p>\n",
       "        </div>\n",
       "<script>\n",
       "\n",
       "var loadScriptAsync = function(uri){\n",
       "  return new Promise((resolve, reject) => {\n",
       "    //this is to ignore the existence of requirejs amd\n",
       "    var savedexports, savedmodule;\n",
       "    if (typeof exports !== 'undefined') savedexports = exports;\n",
       "    else exports = {}\n",
       "    if (typeof module !== 'undefined') savedmodule = module;\n",
       "    else module = {}\n",
       "\n",
       "    var tag = document.createElement('script');\n",
       "    tag.src = uri;\n",
       "    tag.async = true;\n",
       "    tag.onload = () => {\n",
       "        exports = savedexports;\n",
       "        module = savedmodule;\n",
       "        resolve();\n",
       "    };\n",
       "  var firstScriptTag = document.getElementsByTagName('script')[0];\n",
       "  firstScriptTag.parentNode.insertBefore(tag, firstScriptTag);\n",
       "});\n",
       "};\n",
       "\n",
       "if(typeof $3Dmolpromise === 'undefined') {\n",
       "$3Dmolpromise = null;\n",
       "  $3Dmolpromise = loadScriptAsync('https://cdnjs.cloudflare.com/ajax/libs/3Dmol/2.4.0/3Dmol-min.js');\n",
       "}\n",
       "\n",
       "var viewer_1729095996970833 = null;\n",
       "var warn = document.getElementById(\"3dmolwarning_1729095996970833\");\n",
       "if(warn) {\n",
       "    warn.parentNode.removeChild(warn);\n",
       "}\n",
       "$3Dmolpromise.then(function() {\n",
       "var viewergrid_1729095996970833 = null;\n",
       "viewergrid_1729095996970833 = $3Dmol.createViewerGrid(document.getElementById(\"3dmolviewer_1729095996970833\"),{rows: 1, cols: 4, control_all: false},{backgroundColor:\"white\"});\n",
       "viewer_1729095996970833 = viewergrid_1729095996970833[0][0];\n",
       "viewergrid_1729095996970833[0][0].zoomTo();viewergrid_1729095996970833[0][1].zoomTo();viewergrid_1729095996970833[0][2].zoomTo();viewergrid_1729095996970833[0][3].zoomTo();\tviewergrid_1729095996970833[0][0].addModel(\"@<TRIPOS>MOLECULE\\ntmp.mol2 Charge: 2 Unpaired_Electrons: 4 XTB_Unpaired_Electrons: 4 XTB_Charge: 2\\n    19    18     1     0     0\\nSMALL\\nNoCharges\\n****\\nGenerated from Architector\\n\\n@<TRIPOS>ATOM\\n     1 Fe1      -0.0901    0.0055    0.0073   Fe        1 RES1   0.0000\\n     2 O1        1.5829    0.0337    1.5487   O.3       1 RES1   0.0000\\n     3 H1        1.6788   -0.6830    2.2032   H         1 RES1   0.0000\\n     4 H2        1.9045    0.8365    2.0004   H         1 RES1   0.0000\\n     5 O2       -1.4168    1.1563    1.4362   O.3       1 RES1   0.0000\\n     6 H3       -1.3055    0.9552    2.3841   H         1 RES1   0.0000\\n     7 H4       -1.4667    2.1309    1.3976   H         1 RES1   0.0000\\n     8 O3       -0.9349   -1.4347    1.5685   O.3       1 RES1   0.0000\\n     9 H5       -0.6441   -2.3653    1.6277   H         1 RES1   0.0000\\n    10 H6       -1.9069   -1.4784    1.6467   H         1 RES1   0.0000\\n    11 O4        1.5987    0.1091   -1.5203   O.3       1 RES1   0.0000\\n    12 H7        2.4789    0.4189   -1.2341   H         1 RES1   0.0000\\n    13 H8        1.3429    0.7188   -2.2404   H         1 RES1   0.0000\\n    14 O5       -1.0404    1.2514   -1.6338   O.3       1 RES1   0.0000\\n    15 H9       -1.6202    2.0132   -1.4517   H         1 RES1   0.0000\\n    16 H10      -1.5169    0.7291   -2.3080   H         1 RES1   0.0000\\n    17 O6       -0.5041   -1.4452   -1.7417   O.3       1 RES1   0.0000\\n    18 H11      -1.1108   -2.2039   -1.6615   H         1 RES1   0.0000\\n    19 H12       0.3235   -1.8250   -2.0967   H         1 RES1   0.0000\\n@<TRIPOS>BOND\\n     1     1     2    1\\n     2     1     5    1\\n     3     1     8    1\\n     4     1    11    1\\n     5     1    14    1\\n     6     1    17    1\\n     7     2     3    1\\n     8     2     4    1\\n     9     5     6    1\\n    10     5     7    1\\n    11     8     9    1\\n    12     8    10    1\\n    13    11    12    1\\n    14    11    13    1\\n    15    14    15    1\\n    16    14    16    1\\n    17    17    18    1\\n    18    17    19    1\\n@<TRIPOS>SUBSTRUCTURE\\n     1 RES1       19 GROUP             0 ****  ****    0  \\n\",\"mol2\",{\"keepH\": true});\n",
       "\tviewergrid_1729095996970833[0][0].addStyle({\"sphere\": {\"colorscheme\": \"Jmol\", \"scale\": 0.3}});\n",
       "\tviewergrid_1729095996970833[0][0].setStyle({\"elem\": \"Fe\"},{\"sphere\": {\"colorscheme\": \"Jmol\", \"scale\": 0.75}});\n",
       "\tviewergrid_1729095996970833[0][0].addStyle({\"stick\": {\"colorscheme\": \"Jmol\", \"radius\": 0.25}});\n",
       "\tviewergrid_1729095996970833[0][0].zoomTo();\n",
       "\tviewergrid_1729095996970833[0][1].addModel(\"@<TRIPOS>MOLECULE\\ntmp.mol2 Charge: 2 Unpaired_Electrons: 4 XTB_Unpaired_Electrons: 4 XTB_Charge: 2\\n    19    18     1     0     0\\nSMALL\\nNoCharges\\n****\\nGenerated from Architector\\n\\n@<TRIPOS>ATOM\\n     1 Fe1      -0.1309   -0.0303   -0.0636   Fe        1 RES1   0.0000\\n     2 O1       -0.4565   -0.2572    2.1793   O.3       1 RES1   0.0000\\n     3 H1        0.0239   -0.9355    2.6917   H         1 RES1   0.0000\\n     4 H2       -0.5922    0.4687    2.8177   H         1 RES1   0.0000\\n     5 O2       -0.4065   -0.0513   -2.3130   O.3       1 RES1   0.0000\\n     6 H3       -0.4609    0.7356   -2.8867   H         1 RES1   0.0000\\n     7 H4        0.0367   -0.7269   -2.8615   H         1 RES1   0.0000\\n     8 O3        2.0669    0.2860    0.2841   O.3       1 RES1   0.0000\\n     9 H5        2.6677   -0.1995    0.8798   H         1 RES1   0.0000\\n    10 H6        2.6392    0.8679   -0.2493   H         1 RES1   0.0000\\n    11 O4       -2.3063   -0.5955   -0.1619   O.3       1 RES1   0.0000\\n    12 H7       -2.7928   -0.4763    0.6756   H         1 RES1   0.0000\\n    13 H8       -2.8506   -0.1345   -0.8293   H         1 RES1   0.0000\\n    14 O5       -0.3920    2.2046    0.0196   O.3       1 RES1   0.0000\\n    15 H9       -0.2234    2.7770    0.7908   H         1 RES1   0.0000\\n    16 H10      -0.4764    2.8227   -0.7298   H         1 RES1   0.0000\\n    17 O6        0.0062   -2.2432   -0.3599   O.3       1 RES1   0.0000\\n    18 H11       0.8261   -2.7637   -0.2763   H         1 RES1   0.0000\\n    19 H12      -0.7291   -2.8599   -0.1798   H         1 RES1   0.0000\\n@<TRIPOS>BOND\\n     1     1     2    1\\n     2     1     5    1\\n     3     1     8    1\\n     4     1    11    1\\n     5     1    14    1\\n     6     1    17    1\\n     7     2     3    1\\n     8     2     4    1\\n     9     5     6    1\\n    10     5     7    1\\n    11     8     9    1\\n    12     8    10    1\\n    13    11    12    1\\n    14    11    13    1\\n    15    14    15    1\\n    16    14    16    1\\n    17    17    18    1\\n    18    17    19    1\\n@<TRIPOS>SUBSTRUCTURE\\n     1 RES1       19 GROUP             0 ****  ****    0  \\n\",\"mol2\",{\"keepH\": true});\n",
       "\tviewergrid_1729095996970833[0][1].addStyle({\"sphere\": {\"colorscheme\": \"Jmol\", \"scale\": 0.3}});\n",
       "\tviewergrid_1729095996970833[0][1].setStyle({\"elem\": \"Fe\"},{\"sphere\": {\"colorscheme\": \"Jmol\", \"scale\": 0.75}});\n",
       "\tviewergrid_1729095996970833[0][1].addStyle({\"stick\": {\"colorscheme\": \"Jmol\", \"radius\": 0.25}});\n",
       "\tviewergrid_1729095996970833[0][1].zoomTo();\n",
       "viewergrid_1729095996970833[0][3].render();\n",
       "viewergrid_1729095996970833[0][2].render();\n",
       "viewergrid_1729095996970833[0][1].render();\n",
       "viewergrid_1729095996970833[0][0].render();\n",
       "});\n",
       "</script>"
      ]
     },
     "metadata": {},
     "output_type": "display_data"
    }
   ],
   "source": [
    "view_structures(fe_h2o_out)"
   ]
  },
  {
   "cell_type": "markdown",
   "metadata": {},
   "source": [
    "### Summary: In this tutorial we learned how to use external ASE calculators and optimizers within the architector framework. Including:\n",
    "\n",
    "**(A)** Using arbitrary methods to perform energy/relaxations.\n",
    "\n",
    "**(B)** How to use example ASE calculator (MACE-MP-0) within Architector complex construction.\n",
    "\n",
    "**(C)** How to use arbirtrary ASE optimizers within Architector."
   ]
  },
  {
   "cell_type": "code",
   "execution_count": 7,
   "metadata": {},
   "outputs": [
    {
     "name": "stdout",
     "output_type": "stream",
     "text": [
      "     STATE NNODES   NCORES    NGPUS NODELIST\n",
      "      free      1        4        0 cmpc06\n",
      " allocated      0        0        0 \n",
      "      down      0        0        0 \n"
     ]
    }
   ],
   "source": [
    "!flux resource list"
   ]
  },
  {
   "cell_type": "code",
   "execution_count": 8,
   "metadata": {},
   "outputs": [
    {
     "name": "stdout",
     "output_type": "stream",
     "text": [
      "       JOBID USER     NAME       ST NTASKS NNODES     TIME INFO\n",
      "\u001b[01;32m   ƒ2cyT4dMH janssen  python     CD      1      1    42.6s cmpc06\n",
      "\u001b[0;0m\u001b[01;32m   ƒ21AZJjwM janssen  python     CD      1      1   40.64s cmpc06\n",
      "\u001b[0;0m\u001b[01;32m    ƒYA51bew janssen  python     CD      1      1   31.63s cmpc06\n",
      "\u001b[0;0m"
     ]
    }
   ],
   "source": [
    "!flux jobs -a "
   ]
  },
  {
   "cell_type": "code",
   "execution_count": null,
   "metadata": {},
   "outputs": [],
   "source": []
  }
 ],
 "metadata": {
  "kernelspec": {
   "display_name": "Python 3 (ipykernel)",
   "language": "python",
   "name": "python3"
  },
  "language_info": {
   "codemirror_mode": {
    "name": "ipython",
    "version": 3
   },
   "file_extension": ".py",
   "mimetype": "text/x-python",
   "name": "python",
   "nbconvert_exporter": "python",
   "pygments_lexer": "ipython3",
   "version": "3.11.10"
  }
 },
 "nbformat": 4,
 "nbformat_minor": 4
}
